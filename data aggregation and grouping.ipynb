{
 "cells": [
  {
   "cell_type": "code",
   "execution_count": 5,
   "id": "11dea24c",
   "metadata": {},
   "outputs": [
    {
     "name": "stdout",
     "output_type": "stream",
     "text": [
      "\n",
      " Original DataFrame:\n",
      "       Name Category  Value  Score\n",
      "0    Alice        A      1     71\n",
      "1      Bob        B      4     86\n",
      "2  Charlie        C      3     93\n",
      "3    Alice        A      1     90\n",
      "4      Bob        B      4     76\n",
      "5  Charlie        C      1     79\n",
      "\n",
      " Group and aggregate with one column:\n",
      "       Name  Value\n",
      "0    Alice      2\n",
      "1      Bob      8\n",
      "2  Charlie      4\n"
     ]
    }
   ],
   "source": [
    "import numpy as np\n",
    "import pandas as pd\n",
    "df=pd.DataFrame({'Name':['Alice','Bob','Charlie','Alice','Bob','Charlie'],\n",
    "                'Category':['A','B','C','A','B','C'],'Value':np.random.randint(1,5,size=6),\n",
    "                'Score':np.random.randint(60,100,size=6)})\n",
    "print(\"\\n Original DataFrame:\\n\",df)\n",
    "#Data grouping and Aggregation and grouping with one column sum\n",
    "df1=df.groupby(('Name'),as_index=False)['Value']. sum()\n",
    "print(\"\\n Group and aggregate with one column:\\n\",df1)\n"
   ]
  },
  {
   "cell_type": "code",
   "execution_count": 7,
   "id": "e59feea9",
   "metadata": {},
   "outputs": [
    {
     "name": "stdout",
     "output_type": "stream",
     "text": [
      "\n",
      " Group and aggregate with two column:\n",
      "       Name  Value  Score\n",
      "0    Alice      2    161\n",
      "1      Bob      8    162\n",
      "2  Charlie      4    172\n"
     ]
    }
   ],
   "source": [
    "#data grouping and aggregation with two column \n",
    "df2=df.groupby(('Name'),as_index=False)[['Value','Score']]. sum()\n",
    "print(\"\\n Group and aggregate with two column:\\n\",df2)\n"
   ]
  },
  {
   "cell_type": "code",
   "execution_count": 8,
   "id": "cde149b1",
   "metadata": {},
   "outputs": [
    {
     "name": "stdout",
     "output_type": "stream",
     "text": [
      "\n",
      " Group and aggregate with one column:\n",
      "       Name  Value\n",
      "0    Alice      2\n",
      "1      Bob      8\n",
      "2  Charlie      4\n"
     ]
    }
   ],
   "source": [
    "#data grouping and aggregation and grouping with one column sum\n",
    "df3=df.groupby(('Name'),as_index=False)['Value'].agg('sum')\n",
    "print(\"\\n Group and aggregate with one column:\\n\",df3)\n",
    "\n"
   ]
  },
  {
   "cell_type": "code",
   "execution_count": 12,
   "id": "7090f551",
   "metadata": {},
   "outputs": [
    {
     "name": "stdout",
     "output_type": "stream",
     "text": [
      "\n",
      " Group by name and multiple aggregation :\n",
      "         Value              Score      \n",
      "          sum mean min max   sum  mean\n",
      "Name                                  \n",
      "Alice       2  1.0   1   1   161  80.5\n",
      "Bob         8  4.0   4   4   162  81.0\n",
      "Charlie     4  2.0   1   3   172  86.0\n"
     ]
    }
   ],
   "source": [
    "#Group by Name and calculate multiple aggregation\n",
    "df5=df.groupby('Name').agg({'Value':['sum','mean','min','max'],'Score':['sum','mean']})\n",
    "print(\"\\n Group by name and multiple aggregation :\\n\",df5)\n"
   ]
  },
  {
   "cell_type": "code",
   "execution_count": 13,
   "id": "f942f0ff",
   "metadata": {},
   "outputs": [
    {
     "name": "stdout",
     "output_type": "stream",
     "text": [
      "\n",
      " Group and aggregate with one column:\n",
      "       Name  Value\n",
      "0    Alice      1\n",
      "1      Bob      4\n",
      "2  Charlie      3\n"
     ]
    }
   ],
   "source": [
    "df4=df.groupby(('Name'),as_index=False)['Value'].agg('max')\n",
    "print(\"\\n Group and aggregate with one column:\\n\",df4)\n"
   ]
  },
  {
   "cell_type": "code",
   "execution_count": 16,
   "id": "6af33abe",
   "metadata": {},
   "outputs": [
    {
     "name": "stdout",
     "output_type": "stream",
     "text": [
      "\n",
      " Group and count:\n",
      "       Name  Value\n",
      "0    Alice      2\n",
      "1      Bob      2\n",
      "2  Charlie      2\n"
     ]
    }
   ],
   "source": [
    "#Group and count\n",
    "df6=df.groupby(('Name'),as_index=False)['Value'].count()\n",
    "print(\"\\n Group and count:\\n\",df6)"
   ]
  },
  {
   "cell_type": "code",
   "execution_count": 17,
   "id": "c74160e8",
   "metadata": {},
   "outputs": [
    {
     "name": "stdout",
     "output_type": "stream",
     "text": [
      "\n",
      " Group and count:\n",
      "          Category  Value  Score\n",
      "Name                           \n",
      "Alice           2      2      2\n",
      "Bob             2      2      2\n",
      "Charlie         2      2      2\n"
     ]
    }
   ],
   "source": [
    "df7=df.groupby(('Name')).count()\n",
    "print(\"\\n Group and count:\\n\",df7)"
   ]
  },
  {
   "cell_type": "code",
   "execution_count": 18,
   "id": "6968bd0b",
   "metadata": {},
   "outputs": [
    {
     "name": "stdout",
     "output_type": "stream",
     "text": [
      "\n",
      " Group and display from first:\n",
      "       Name  Value\n",
      "0    Alice      1\n",
      "1      Bob      4\n",
      "2  Charlie      3\n"
     ]
    }
   ],
   "source": [
    "#Group and display from first value\n",
    "df8=df.groupby(('Name'),as_index=False)['Value'].first()\n",
    "print(\"\\n Group and display from first:\\n\",df8)"
   ]
  },
  {
   "cell_type": "code",
   "execution_count": 19,
   "id": "b5211ff9",
   "metadata": {},
   "outputs": [
    {
     "name": "stdout",
     "output_type": "stream",
     "text": [
      "\n",
      " Group and display from first:\n",
      "         Category  Value  Score\n",
      "Name                          \n",
      "Alice          A      1     71\n",
      "Bob            B      4     86\n",
      "Charlie        C      3     93\n"
     ]
    }
   ],
   "source": [
    "df9=df.groupby(('Name')).first()\n",
    "print(\"\\n Group and display from first:\\n\",df9)"
   ]
  },
  {
   "cell_type": "code",
   "execution_count": 20,
   "id": "87fc0817",
   "metadata": {},
   "outputs": [
    {
     "name": "stdout",
     "output_type": "stream",
     "text": [
      "\n",
      " Group and display from first:\n",
      "       Name  Value\n",
      "0    Alice      1\n",
      "1      Bob      4\n",
      "2  Charlie      1\n"
     ]
    }
   ],
   "source": [
    "df10=df.groupby(('Name'),as_index=False)['Value'].last()\n",
    "print(\"\\n Group and display from first:\\n\",df10)"
   ]
  },
  {
   "cell_type": "code",
   "execution_count": 21,
   "id": "2a35afaf",
   "metadata": {},
   "outputs": [
    {
     "name": "stdout",
     "output_type": "stream",
     "text": [
      "\n",
      " Group and display from last:\n",
      "         Category  Value  Score\n",
      "Name                          \n",
      "Alice          A      1     90\n",
      "Bob            B      4     76\n",
      "Charlie        C      1     79\n"
     ]
    }
   ],
   "source": [
    "df11=df.groupby(('Name')).last()\n",
    "print(\"\\n Group and display from last:\\n\",df11)"
   ]
  },
  {
   "cell_type": "code",
   "execution_count": 22,
   "id": "8b50a603",
   "metadata": {},
   "outputs": [
    {
     "name": "stdout",
     "output_type": "stream",
     "text": [
      "\n",
      " Group and display from size:\n",
      "       Name  size\n",
      "0    Alice     2\n",
      "1      Bob     2\n",
      "2  Charlie     2\n"
     ]
    }
   ],
   "source": [
    "df12=df.groupby(('Name'),as_index=False)['Value'].size()\n",
    "print(\"\\n Group and display from size:\\n\",df12)"
   ]
  },
  {
   "cell_type": "code",
   "execution_count": 23,
   "id": "2ea5d239",
   "metadata": {},
   "outputs": [
    {
     "name": "stdout",
     "output_type": "stream",
     "text": [
      "\n",
      " Group and display size:\n",
      " Name\n",
      "Alice      2\n",
      "Bob        2\n",
      "Charlie    2\n",
      "dtype: int64\n"
     ]
    }
   ],
   "source": [
    "df13=df.groupby(('Name')).size()\n",
    "print(\"\\n Group and display size:\\n\",df13)"
   ]
  },
  {
   "cell_type": "code",
   "execution_count": null,
   "id": "7a156eb4",
   "metadata": {},
   "outputs": [],
   "source": []
  }
 ],
 "metadata": {
  "kernelspec": {
   "display_name": "Python 3 (ipykernel)",
   "language": "python",
   "name": "python3"
  },
  "language_info": {
   "codemirror_mode": {
    "name": "ipython",
    "version": 3
   },
   "file_extension": ".py",
   "mimetype": "text/x-python",
   "name": "python",
   "nbconvert_exporter": "python",
   "pygments_lexer": "ipython3",
   "version": "3.11.5"
  }
 },
 "nbformat": 4,
 "nbformat_minor": 5
}
